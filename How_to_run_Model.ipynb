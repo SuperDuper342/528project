{
  "nbformat": 4,
  "nbformat_minor": 0,
  "metadata": {
    "colab": {
      "provenance": [],
      "authorship_tag": "ABX9TyMgNUIoCtqJioaWbhdIr5TL",
      "include_colab_link": true
    },
    "kernelspec": {
      "name": "python3",
      "display_name": "Python 3"
    },
    "language_info": {
      "name": "python"
    }
  },
  "cells": [
    {
      "cell_type": "markdown",
      "metadata": {
        "id": "view-in-github",
        "colab_type": "text"
      },
      "source": [
        "<a href=\"https://colab.research.google.com/github/SuperDuper342/528project/blob/main/How_to_run_Model.ipynb\" target=\"_parent\"><img src=\"https://colab.research.google.com/assets/colab-badge.svg\" alt=\"Open In Colab\"/></a>"
      ]
    },
    {
      "cell_type": "code",
      "source": [
        "import os                                                                       # used for path managemnet\n",
        "import cv2                                                                      # used to manipulate images\n",
        "import glob\n",
        "import math\n",
        "import json                                                                     # used to open and retrieve data from .json files\n",
        "import shutil\n",
        "import random\n",
        "import numpy as np                                                              # used to store information in an easily iterable matrix\n",
        "import tensorflow as tf                                                         # used for model\n",
        "import albumentations as alb\n",
        "import matplotlib.pyplot as plt                                                 # used to display images\n",
        "from tensorflow.keras.models import Model\n",
        "from tensorflow.keras.callbacks import EarlyStopping\n",
        "from tensorflow.keras.applications import MobileNetV2\n",
        "from tensorflow_datasets.core.features import feature\n",
        "from tensorflow.keras.layers import BatchNormalization\n",
        "from tensorflow.keras.layers import Input, Dense, GlobalMaxPooling2D"
      ],
      "metadata": {
        "id": "JqJMlYsED0CO"
      },
      "execution_count": 1,
      "outputs": []
    },
    {
      "cell_type": "code",
      "source": [
        "import numpy as np\n",
        "from PIL import Image\n",
        "import tensorflow as tf\n",
        "\n",
        "# Load and normalize the image\n",
        "\n",
        "test_image = Image.open('/content/ball365.jpg')\n",
        "\n",
        "# Normalize pixel values to the range [0, 1]\n",
        "norm = (np.array(test_image) / 255.0).astype(np.float32)\n",
        "\n",
        "norm = norm.reshape((1, 224, 224, 3))"
      ],
      "metadata": {
        "id": "uPmWaXUaEOae"
      },
      "execution_count": 2,
      "outputs": []
    },
    {
      "cell_type": "code",
      "execution_count": 3,
      "metadata": {
        "colab": {
          "base_uri": "https://localhost:8080/"
        },
        "id": "oin5lbvfDtHj",
        "outputId": "44db4e2b-9e54-4079-b7a8-e652e758cc40"
      },
      "outputs": [
        {
          "output_type": "stream",
          "name": "stdout",
          "text": [
            "Prediction coords: (36, 12), (71, 39)\n",
            "Prediction conf: 100.0\n"
          ]
        }
      ],
      "source": [
        "# Assuming your TFLite model is named 'target_tracker.tflite'\n",
        "model_path = '/content/model.tflite'\n",
        "interpreter = tf.lite.Interpreter(model_path=model_path)\n",
        "interpreter.allocate_tensors()\n",
        "\n",
        "# Get input and output details\n",
        "input_details = interpreter.get_input_details()\n",
        "output_details = interpreter.get_output_details()\n",
        "count = 0\n",
        "\n",
        "# Set the input tensor\n",
        "interpreter.set_tensor(input_details[0]['index'], norm)\n",
        "\n",
        "# Run the inference\n",
        "interpreter.invoke()\n",
        "# Get the output tensor\n",
        "conf = interpreter.get_tensor(output_details[0]['index'])\n",
        "coords = interpreter.get_tensor(output_details[1]['index'])\n",
        "\n",
        "conf = conf[0][0]\n",
        "x0 = int(coords[0][0]*224)\n",
        "y0 = int(coords[0][1]*224)\n",
        "x1 = int(coords[0][2]*224)\n",
        "y1 = int(coords[0][3]*224)\n",
        "\n",
        "print(f\"Prediction coords: ({x0}, {y0}), ({x1}, {y1})\")\n",
        "print(\"Prediction conf:\", conf*100)"
      ]
    }
  ]
}